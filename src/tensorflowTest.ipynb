{
 "cells": [
  {
   "cell_type": "code",
   "execution_count": 1,
   "metadata": {},
   "outputs": [],
   "source": [
    "import network4\n",
    "import numpy as np"
   ]
  },
  {
   "cell_type": "code",
   "execution_count": 2,
   "metadata": {
    "collapsed": true
   },
   "outputs": [],
   "source": [
    "x = network4.load_data_shared()"
   ]
  },
  {
   "cell_type": "code",
   "execution_count": 3,
   "metadata": {
    "collapsed": true
   },
   "outputs": [],
   "source": [
    "net = network4.Network([\n",
    "    network4.FullyConnectedLayer(n_in=784, n_out=700),\n",
    "    network4.FullyConnectedLayer(n_in=700, n_out=100),\n",
    "    network4.SoftmaxLayer(n_in=100, n_out=10)\n",
    "], 100)"
   ]
  },
  {
   "cell_type": "code",
   "execution_count": 4,
   "metadata": {},
   "outputs": [
    {
     "name": "stdout",
     "output_type": "stream",
     "text": [
      "Training mini-batch number 0\n",
      "Epoch 0: validation accuracy 88.04%\n",
      "This is the best validation accuracy to date.\n",
      "Epoch 1: validation accuracy 91.71%\n",
      "This is the best validation accuracy to date.\n",
      "Training mini-batch number 1000\n",
      "Epoch 2: validation accuracy 93.56%\n",
      "This is the best validation accuracy to date.\n",
      "Epoch 3: validation accuracy 94.71%\n",
      "This is the best validation accuracy to date.\n",
      "Training mini-batch number 2000\n",
      "Epoch 4: validation accuracy 95.55%\n",
      "This is the best validation accuracy to date.\n",
      "Epoch 5: validation accuracy 95.92%\n",
      "This is the best validation accuracy to date.\n",
      "Training mini-batch number 3000\n",
      "Epoch 6: validation accuracy 96.34%\n",
      "This is the best validation accuracy to date.\n",
      "Epoch 7: validation accuracy 96.51%\n",
      "This is the best validation accuracy to date.\n",
      "Training mini-batch number 4000\n",
      "Epoch 8: validation accuracy 96.73%\n",
      "This is the best validation accuracy to date.\n",
      "Epoch 9: validation accuracy 96.96%\n",
      "This is the best validation accuracy to date.\n",
      "Finished training network.\n",
      "Best validation accuracy of 96.96% obtained at iteration 4999\n"
     ]
    }
   ],
   "source": [
    "net.sgd(x[0], 10, 100, 1.0, x[1], x[1], 0.0)"
   ]
  },
  {
   "cell_type": "code",
   "execution_count": null,
   "metadata": {},
   "outputs": [],
   "source": []
  },
  {
   "cell_type": "code",
   "execution_count": null,
   "metadata": {
    "collapsed": true
   },
   "outputs": [],
   "source": []
  }
 ],
 "metadata": {
  "kernelspec": {
   "display_name": "Python 3",
   "language": "python",
   "name": "python3"
  },
  "language_info": {
   "codemirror_mode": {
    "name": "ipython",
    "version": 3
   },
   "file_extension": ".py",
   "mimetype": "text/x-python",
   "name": "python",
   "nbconvert_exporter": "python",
   "pygments_lexer": "ipython3",
   "version": "3.5.3"
  }
 },
 "nbformat": 4,
 "nbformat_minor": 2
}
